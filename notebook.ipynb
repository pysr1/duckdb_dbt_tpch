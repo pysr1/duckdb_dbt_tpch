{
 "cells": [
  {
   "cell_type": "code",
   "execution_count": 49,
   "metadata": {},
   "outputs": [],
   "source": [
    "import duckdb\n",
    "\n",
    "con = duckdb.connect('tpch/dev.duckdb')\n",
    "#con.sql(\"install tpch; load tpch;CALL dbgen(sf=0.01);\")\n",
    "\n"
   ]
  },
  {
   "cell_type": "code",
   "execution_count": 50,
   "metadata": {},
   "outputs": [
    {
     "data": {
      "text/plain": [
       "┌──────────┬──────────────────────┬────────────────┬───┬────────────────┬───────────────────┬──────────────────────┐\n",
       "│ part_key │      part_name       │   part_mrgr    │ … │ part_container │ part_retail_price │     part_comment     │\n",
       "│  int32   │       varchar        │    varchar     │   │    varchar     │   decimal(15,2)   │       varchar        │\n",
       "├──────────┼──────────────────────┼────────────────┼───┼────────────────┼───────────────────┼──────────────────────┤\n",
       "│        1 │ goldenrod lavender…  │ Manufacturer#1 │ … │ JUMBO PKG      │            901.00 │ ironic pinto be      │\n",
       "│        2 │ blush thistle blue…  │ Manufacturer#1 │ … │ LG CASE        │            902.00 │ nding, even pack     │\n",
       "│        3 │ spring green yello…  │ Manufacturer#4 │ … │ WRAP CASE      │            903.00 │ ages. blithely fina  │\n",
       "│        4 │ cornflower chocola…  │ Manufacturer#3 │ … │ MED DRUM       │            904.00 │ ckages. regul        │\n",
       "│        5 │ forest brown coral…  │ Manufacturer#3 │ … │ SM PKG         │            905.00 │ pinto beans are      │\n",
       "│        6 │ bisque cornflower …  │ Manufacturer#2 │ … │ MED BAG        │            906.00 │ kages                │\n",
       "│        7 │ moccasin green thi…  │ Manufacturer#1 │ … │ SM BAG         │            907.00 │ gular pi             │\n",
       "│        8 │ misty lace thistle…  │ Manufacturer#4 │ … │ LG DRUM        │            908.00 │ beans                │\n",
       "│        9 │ thistle dim navajo…  │ Manufacturer#4 │ … │ WRAP CASE      │            909.00 │ ole furious          │\n",
       "│       10 │ linen pink saddle …  │ Manufacturer#5 │ … │ LG CAN         │            910.01 │ into beans about the │\n",
       "│        · │          ·           │       ·        │ · │   ·            │               ·   │         ·            │\n",
       "│        · │          ·           │       ·        │ · │   ·            │               ·   │         ·            │\n",
       "│        · │          ·           │       ·        │ · │   ·            │               ·   │         ·            │\n",
       "│     1991 │ dim drab snow spri…  │ Manufacturer#1 │ … │ SM PKG         │           1892.99 │ l pinto beans slee   │\n",
       "│     1992 │ ghost moccasin tur…  │ Manufacturer#3 │ … │ MED PKG        │           1893.99 │  ideas. bold in      │\n",
       "│     1993 │ dark firebrick pea…  │ Manufacturer#4 │ … │ JUMBO CASE     │           1894.99 │ e ironic platelets.  │\n",
       "│     1994 │ bisque salmon cyan…  │ Manufacturer#1 │ … │ SM PACK        │           1895.99 │ arhorses sleep bli   │\n",
       "│     1995 │ antique puff pink …  │ Manufacturer#1 │ … │ JUMBO BAG      │           1896.99 │ gular theodoli       │\n",
       "│     1996 │ bisque khaki thist…  │ Manufacturer#2 │ … │ JUMBO CASE     │           1897.99 │  ideas               │\n",
       "│     1997 │ coral rose drab cr…  │ Manufacturer#3 │ … │ MED JAR        │           1898.99 │ nding requ           │\n",
       "│     1998 │ steel plum violet …  │ Manufacturer#2 │ … │ WRAP PACK      │           1899.99 │ egula                │\n",
       "│     1999 │ frosted cornflower…  │ Manufacturer#2 │ … │ SM PKG         │           1900.99 │ he theodolites. qu…  │\n",
       "│     2000 │ wheat blush green …  │ Manufacturer#1 │ … │ SM BAG         │            902.00 │ out the quickly      │\n",
       "├──────────┴──────────────────────┴────────────────┴───┴────────────────┴───────────────────┴──────────────────────┤\n",
       "│ 2000 rows (20 shown)                                                                         9 columns (6 shown) │\n",
       "└──────────────────────────────────────────────────────────────────────────────────────────────────────────────────┘"
      ]
     },
     "execution_count": 50,
     "metadata": {},
     "output_type": "execute_result"
    }
   ],
   "source": [
    "con.sql('SELECT * FROM \"dbt\".\"stg_part\"')"
   ]
  },
  {
   "cell_type": "code",
   "execution_count": null,
   "metadata": {},
   "outputs": [],
   "source": [
    "con.close()"
   ]
  },
  {
   "cell_type": "code",
   "execution_count": null,
   "metadata": {},
   "outputs": [],
   "source": [
    "con = duckdb.connect('tpch/dev.duckdb')\n",
    "string = ''\n",
    "for i in con.sql(\"SELECT table_name FROM  information_schema.tables\").fetchall():\n",
    "    string += f\"drop table {i[0]};\"\n",
    "print(string)\n"
   ]
  },
  {
   "cell_type": "code",
   "execution_count": null,
   "metadata": {},
   "outputs": [],
   "source": [
    "con.close()"
   ]
  },
  {
   "cell_type": "code",
   "execution_count": null,
   "metadata": {},
   "outputs": [],
   "source": [
    "con = duckdb.connect('tpch/dev.duckdb')\n",
    "con.sql(\"describe stg_orders\")"
   ]
  },
  {
   "cell_type": "code",
   "execution_count": null,
   "metadata": {},
   "outputs": [],
   "source": [
    "con.sql(\"describe stg_customer\")"
   ]
  },
  {
   "cell_type": "code",
   "execution_count": null,
   "metadata": {},
   "outputs": [],
   "source": [
    "con = duckdb.connect('tpch/dev.duckdb', read_only= True)\n",
    "con.sql('SELECT * FROM stg_lineitem')"
   ]
  },
  {
   "cell_type": "code",
   "execution_count": null,
   "metadata": {},
   "outputs": [],
   "source": [
    "query = '''\n",
    "SELECT \n",
    "l_orderkey as lineitem_order_key, \n",
    "l_partkey as lineitem_part_key, \n",
    "l_suppkey as lineitem_supplied_key,\n",
    "l_linenumber as lineitem_linenumber,\n",
    "---- I'm gonna assume that any value that isn't 'N' is a return \n",
    "case when l_returnflag = 'N' then l_quantity else 0 - l_quantity end as lineitem_quantity,\n",
    "l_extendedprice as lineitem_extended_price,\n",
    "l_discount as lineitem_discount, \n",
    "l_tax as lineitem_tax, \n",
    "(l_extendedprice - l_discount) * (case when l_returnflag = 'N' then l_quantity else 0 - l_quantity end) as lineitem_line_total,\n",
    "((l_extendedprice - l_discount) * (1 + l_tax)) * (case when l_returnflag = 'N' then l_quantity else 0 - l_quantity end) as lineitem_line_total_tax,\n",
    "l_returnflag as lineitem_return_flag,\n",
    "l_linestatus as lineitem_line_status,\n",
    "l_shipdate as lineitem_ship_date, \n",
    "l_commitdate as lineitem_commit_date, \n",
    "l_receiptdate as lineitem_receipt_date,\n",
    "l_shipinstruct as lineitem_ship_instruct,\n",
    "l_shipmode as lineitem_ship_mode,\n",
    "l_comment as lineitem_comment\n",
    "from lineitem\n",
    "'''\n",
    "\n",
    "con.sql(query)"
   ]
  },
  {
   "cell_type": "code",
   "execution_count": null,
   "metadata": {},
   "outputs": [],
   "source": [
    "#con = duckdb.connect('tpch/dev.duckdb', read_only= True)\n",
    "table = 'region'\n",
    "cols = con.query(f'''\n",
    "------SELECT '{table}.' || column_name || ',' FROM information_schema.columns where table_name = '{table}'\n",
    "SELECT column_name || ',' FROM information_schema.columns where table_name = '{table}'\n",
    "''').fetchall()\n",
    "\n",
    "print('SELECT')\n",
    "for i in cols:\n",
    "    \n",
    "    print(i[0])"
   ]
  },
  {
   "cell_type": "code",
   "execution_count": null,
   "metadata": {},
   "outputs": [],
   "source": [
    "con.close()"
   ]
  },
  {
   "cell_type": "code",
   "execution_count": null,
   "metadata": {},
   "outputs": [],
   "source": [
    "con.sql('SELECT * FROM order_info_wide ')"
   ]
  },
  {
   "cell_type": "code",
   "execution_count": null,
   "metadata": {},
   "outputs": [],
   "source": [
    "from duckdb import sql \n",
    "sql(\"SELECT * FROM read_parquet('tpch/order_info_wide.parquet')\")"
   ]
  },
  {
   "cell_type": "code",
   "execution_count": null,
   "metadata": {},
   "outputs": [],
   "source": []
  }
 ],
 "metadata": {
  "kernelspec": {
   "display_name": ".venv",
   "language": "python",
   "name": "python3"
  },
  "language_info": {
   "codemirror_mode": {
    "name": "ipython",
    "version": 3
   },
   "file_extension": ".py",
   "mimetype": "text/x-python",
   "name": "python",
   "nbconvert_exporter": "python",
   "pygments_lexer": "ipython3",
   "version": "3.11.5"
  }
 },
 "nbformat": 4,
 "nbformat_minor": 2
}
