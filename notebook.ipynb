{
 "cells": [
  {
   "cell_type": "code",
   "execution_count": 4,
   "metadata": {},
   "outputs": [],
   "source": [
    "import duckdb\n",
    "\n",
    "con = duckdb.connect('tpch/dev.duckdb')\n",
    "con.sql(\"install tpch; load tpch\")\n",
    "con.sql('CALL dbgen(sf=1);')\n",
    "con.close()\n"
   ]
  },
  {
   "cell_type": "code",
   "execution_count": 3,
   "metadata": {},
   "outputs": [],
   "source": [
    "con.close()"
   ]
  },
  {
   "cell_type": "code",
   "execution_count": 16,
   "metadata": {},
   "outputs": [
    {
     "data": {
      "text/plain": [
       "┌─────────────────────┬───────────────┬─────────┬─────────┬─────────┬───────┐\n",
       "│     column_name     │  column_type  │  null   │   key   │ default │ extra │\n",
       "│       varchar       │    varchar    │ varchar │ varchar │ varchar │ int32 │\n",
       "├─────────────────────┼───────────────┼─────────┼─────────┼─────────┼───────┤\n",
       "│ order_key           │ INTEGER       │ YES     │ NULL    │ NULL    │  NULL │\n",
       "│ order_cust_key      │ INTEGER       │ YES     │ NULL    │ NULL    │  NULL │\n",
       "│ order_status        │ VARCHAR       │ YES     │ NULL    │ NULL    │  NULL │\n",
       "│ order_total_price   │ DECIMAL(15,2) │ YES     │ NULL    │ NULL    │  NULL │\n",
       "│ order_date          │ DATE          │ YES     │ NULL    │ NULL    │  NULL │\n",
       "│ order_priority      │ VARCHAR       │ YES     │ NULL    │ NULL    │  NULL │\n",
       "│ order_clerk         │ VARCHAR       │ YES     │ NULL    │ NULL    │  NULL │\n",
       "│ order_ship_priority │ INTEGER       │ YES     │ NULL    │ NULL    │  NULL │\n",
       "│ order_comment       │ VARCHAR       │ YES     │ NULL    │ NULL    │  NULL │\n",
       "└─────────────────────┴───────────────┴─────────┴─────────┴─────────┴───────┘"
      ]
     },
     "execution_count": 16,
     "metadata": {},
     "output_type": "execute_result"
    }
   ],
   "source": [
    "con = duckdb.connect('tpch/dev.duckdb')\n",
    "con.sql(\"describe stg_orders\")"
   ]
  },
  {
   "cell_type": "code",
   "execution_count": 18,
   "metadata": {},
   "outputs": [
    {
     "data": {
      "text/plain": [
       "┌──────────────────────┬───────────────┬─────────┬─────────┬─────────┬───────┐\n",
       "│     column_name      │  column_type  │  null   │   key   │ default │ extra │\n",
       "│       varchar        │    varchar    │ varchar │ varchar │ varchar │ int32 │\n",
       "├──────────────────────┼───────────────┼─────────┼─────────┼─────────┼───────┤\n",
       "│ cust_key             │ INTEGER       │ YES     │ NULL    │ NULL    │  NULL │\n",
       "│ cust_name            │ VARCHAR       │ YES     │ NULL    │ NULL    │  NULL │\n",
       "│ cust_address         │ VARCHAR       │ YES     │ NULL    │ NULL    │  NULL │\n",
       "│ cust_nation_key      │ INTEGER       │ YES     │ NULL    │ NULL    │  NULL │\n",
       "│ cust_phone           │ VARCHAR       │ YES     │ NULL    │ NULL    │  NULL │\n",
       "│ cust_account_balance │ DECIMAL(15,2) │ YES     │ NULL    │ NULL    │  NULL │\n",
       "│ cust_market_segment  │ VARCHAR       │ YES     │ NULL    │ NULL    │  NULL │\n",
       "│ cust_comment         │ VARCHAR       │ YES     │ NULL    │ NULL    │  NULL │\n",
       "└──────────────────────┴───────────────┴─────────┴─────────┴─────────┴───────┘"
      ]
     },
     "execution_count": 18,
     "metadata": {},
     "output_type": "execute_result"
    }
   ],
   "source": [
    "con.sql(\"describe stg_customer\")"
   ]
  },
  {
   "cell_type": "code",
   "execution_count": 7,
   "metadata": {},
   "outputs": [
    {
     "data": {
      "text/plain": [
       "┌──────────────────────┬────────────────────┬───┬──────────────────────┬────────────────────┬──────────────────────┐\n",
       "│     lineitem_key     │ lineitem_order_key │ … │ lineitem_ship_inst…  │ lineitem_ship_mode │   lineitem_comment   │\n",
       "│       varchar        │       int32        │   │       varchar        │      varchar       │       varchar        │\n",
       "├──────────────────────┼────────────────────┼───┼──────────────────────┼────────────────────┼──────────────────────┤\n",
       "│ ea66c06c1e1c05fa9f…  │                  1 │ … │ DELIVER IN PERSON    │ TRUCK              │ to beans x-ray car…  │\n",
       "│ 98c6f2c2287f4c73ce…  │                  1 │ … │ TAKE BACK RETURN     │ MAIL               │  according to the …  │\n",
       "│ 13cee27a2bd9391547…  │                  1 │ … │ TAKE BACK RETURN     │ REG AIR            │ ourts cajole above…  │\n",
       "│ 3a170a9fe4f47efa37…  │                  1 │ … │ NONE                 │ AIR                │ s cajole busily ab…  │\n",
       "│ 12426c956d1bc50170…  │                  1 │ … │ NONE                 │ FOB                │  the regular, regu…  │\n",
       "│ 449daf85c71a9f8eb7…  │                  1 │ … │ DELIVER IN PERSON    │ MAIL               │ rouches. special     │\n",
       "│ 8fbdbf5573b18fae93…  │                  2 │ … │ TAKE BACK RETURN     │ RAIL               │ re. enticingly reg…  │\n",
       "│ c9e6e7b69f98f516a5…  │                  3 │ … │ NONE                 │ AIR                │ s cajole above the…  │\n",
       "│ b772d43b49bb57b596…  │                  3 │ … │ TAKE BACK RETURN     │ RAIL               │ ecial pinto beans.…  │\n",
       "│ 7866cc7fb5a03c016e…  │                  3 │ … │ DELIVER IN PERSON    │ SHIP               │ e carefully fina     │\n",
       "│          ·           │                  · │ · │         ·            │  ·                 │        ·             │\n",
       "│          ·           │                  · │ · │         ·            │  ·                 │        ·             │\n",
       "│          ·           │                  · │ · │         ·            │  ·                 │        ·             │\n",
       "│ 0dadf59b535dc9054d…  │              10049 │ … │ DELIVER IN PERSON    │ MAIL               │ to beans. slyly fi…  │\n",
       "│ 74cb81b37facb07286…  │              10050 │ … │ NONE                 │ TRUCK              │ es. specia           │\n",
       "│ 6d5f7ca5ec725b88bf…  │              10050 │ … │ COLLECT COD          │ FOB                │ e even theodolites.  │\n",
       "│ 67741ca93bef15718f…  │              10050 │ … │ COLLECT COD          │ RAIL               │ bold requests. iro…  │\n",
       "│ db994447a7b96e3978…  │              10050 │ … │ COLLECT COD          │ MAIL               │ eans. final platel…  │\n",
       "│ f54f3cd52b90f8e6de…  │              10051 │ … │ DELIVER IN PERSON    │ SHIP               │ accounts: blithely…  │\n",
       "│ 28fbba8828951bb640…  │              10051 │ … │ TAKE BACK RETURN     │ TRUCK              │ g to the ironic      │\n",
       "│ 2102dba5971727dd6a…  │              10051 │ … │ TAKE BACK RETURN     │ REG AIR            │ yly regular ideas.…  │\n",
       "│ 09bd2b622f7598da08…  │              10051 │ … │ COLLECT COD          │ TRUCK              │  the slyly final r…  │\n",
       "│ e3f01a23a8a3b6aad1…  │              10052 │ … │ NONE                 │ SHIP               │ rding to the even …  │\n",
       "├──────────────────────┴────────────────────┴───┴──────────────────────┴────────────────────┴──────────────────────┤\n",
       "│ ? rows (>9999 rows, 20 shown)                                                               19 columns (5 shown) │\n",
       "└──────────────────────────────────────────────────────────────────────────────────────────────────────────────────┘"
      ]
     },
     "execution_count": 7,
     "metadata": {},
     "output_type": "execute_result"
    }
   ],
   "source": [
    "con = duckdb.connect('tpch/dev.duckdb', read_only= True)\n",
    "con.sql('SELECT * FROM stg_lineitem')"
   ]
  },
  {
   "cell_type": "code",
   "execution_count": 70,
   "metadata": {},
   "outputs": [
    {
     "data": {
      "text/plain": [
       "┌────────────────────┬───────────────────┬──────────────────────┬───┬────────────────────┬──────────────────────┐\n",
       "│ lineitem_order_key │ lineitem_part_key │ lineitem_supplied_…  │ … │ lineitem_ship_mode │   lineitem_comment   │\n",
       "│       int32        │       int32       │        int32         │   │      varchar       │       varchar        │\n",
       "├────────────────────┼───────────────────┼──────────────────────┼───┼────────────────────┼──────────────────────┤\n",
       "│                  1 │            155190 │                 7706 │ … │ TRUCK              │ to beans x-ray car…  │\n",
       "│                  1 │             67310 │                 7311 │ … │ MAIL               │  according to the …  │\n",
       "│                  1 │             63700 │                 3701 │ … │ REG AIR            │ ourts cajole above…  │\n",
       "│                  1 │              2132 │                 4633 │ … │ AIR                │ s cajole busily ab…  │\n",
       "│                  1 │             24027 │                 1534 │ … │ FOB                │  the regular, regu…  │\n",
       "│                  1 │             15635 │                  638 │ … │ MAIL               │ rouches. special     │\n",
       "│                  2 │            106170 │                 1191 │ … │ RAIL               │ re. enticingly reg…  │\n",
       "│                  3 │              4297 │                 1798 │ … │ AIR                │ s cajole above the…  │\n",
       "│                  3 │             19036 │                 6540 │ … │ RAIL               │ ecial pinto beans.…  │\n",
       "│                  3 │            128449 │                 3474 │ … │ SHIP               │ e carefully fina     │\n",
       "│                  · │               ·   │                   ·  │ · │  ·                 │        ·             │\n",
       "│                  · │               ·   │                   ·  │ · │  ·                 │        ·             │\n",
       "│                  · │               ·   │                   ·  │ · │  ·                 │        ·             │\n",
       "│              10049 │            164042 │                 6559 │ … │ MAIL               │ to beans. slyly fi…  │\n",
       "│              10050 │            199821 │                 7379 │ … │ TRUCK              │ es. specia           │\n",
       "│              10050 │            175779 │                  814 │ … │ FOB                │ e even theodolites.  │\n",
       "│              10050 │            104518 │                 7029 │ … │ RAIL               │ bold requests. iro…  │\n",
       "│              10050 │             22788 │                  295 │ … │ MAIL               │ eans. final platel…  │\n",
       "│              10051 │             82853 │                  378 │ … │ SHIP               │ accounts: blithely…  │\n",
       "│              10051 │             97751 │                 2770 │ … │ TRUCK              │ g to the ironic      │\n",
       "│              10051 │             86917 │                 6918 │ … │ REG AIR            │ yly regular ideas.…  │\n",
       "│              10051 │              5431 │                 5432 │ … │ TRUCK              │  the slyly final r…  │\n",
       "│              10052 │             38654 │                 8655 │ … │ SHIP               │ rding to the even …  │\n",
       "├────────────────────┴───────────────────┴──────────────────────┴───┴────────────────────┴──────────────────────┤\n",
       "│ ? rows (>9999 rows, 20 shown)                                                            18 columns (5 shown) │\n",
       "└───────────────────────────────────────────────────────────────────────────────────────────────────────────────┘"
      ]
     },
     "execution_count": 70,
     "metadata": {},
     "output_type": "execute_result"
    }
   ],
   "source": [
    "query = '''\n",
    "SELECT \n",
    "l_orderkey as lineitem_order_key, \n",
    "l_partkey as lineitem_part_key, \n",
    "l_suppkey as lineitem_supplied_key,\n",
    "l_linenumber as lineitem_linenumber,\n",
    "---- I'm gonna assume that any value that isn't 'N' is a return \n",
    "case when l_returnflag = 'N' then l_quantity else 0 - l_quantity end as lineitem_quantity,\n",
    "l_extendedprice as lineitem_extended_price,\n",
    "l_discount as lineitem_discount, \n",
    "l_tax as lineitem_tax, \n",
    "(l_extendedprice - l_discount) * (case when l_returnflag = 'N' then l_quantity else 0 - l_quantity end) as lineitem_line_total,\n",
    "((l_extendedprice - l_discount) * (1 + l_tax)) * (case when l_returnflag = 'N' then l_quantity else 0 - l_quantity end) as lineitem_line_total_tax,\n",
    "l_returnflag as lineitem_return_flag,\n",
    "l_linestatus as lineitem_line_status,\n",
    "l_shipdate as lineitem_ship_date, \n",
    "l_commitdate as lineitem_commit_date, \n",
    "l_receiptdate as lineitem_receipt_date,\n",
    "l_shipinstruct as lineitem_ship_instruct,\n",
    "l_shipmode as lineitem_ship_mode,\n",
    "l_comment as lineitem_comment\n",
    "from lineitem\n",
    "'''\n",
    "\n",
    "con.sql(query)"
   ]
  },
  {
   "cell_type": "code",
   "execution_count": 71,
   "metadata": {},
   "outputs": [],
   "source": [
    "con.close()"
   ]
  }
 ],
 "metadata": {
  "kernelspec": {
   "display_name": ".venv",
   "language": "python",
   "name": "python3"
  },
  "language_info": {
   "codemirror_mode": {
    "name": "ipython",
    "version": 3
   },
   "file_extension": ".py",
   "mimetype": "text/x-python",
   "name": "python",
   "nbconvert_exporter": "python",
   "pygments_lexer": "ipython3",
   "version": "3.11.5"
  }
 },
 "nbformat": 4,
 "nbformat_minor": 2
}
