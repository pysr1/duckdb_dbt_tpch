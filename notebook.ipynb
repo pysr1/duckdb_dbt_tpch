{
 "cells": [
  {
   "cell_type": "code",
   "execution_count": 13,
   "metadata": {},
   "outputs": [
    {
     "data": {
      "text/plain": [
       "┌─────────┐\n",
       "│ Success │\n",
       "│ boolean │\n",
       "├─────────┤\n",
       "│ 0 rows  │\n",
       "└─────────┘"
      ]
     },
     "execution_count": 13,
     "metadata": {},
     "output_type": "execute_result"
    }
   ],
   "source": [
    "import duckdb\n",
    "\n",
    "con = duckdb.connect('tpch/dev.duckdb')\n",
    "con.sql(\"install tpch; load tpch;CALL dbgen(sf=0.01);\")\n",
    "\n"
   ]
  },
  {
   "cell_type": "code",
   "execution_count": 17,
   "metadata": {},
   "outputs": [],
   "source": [
    "con.close()"
   ]
  },
  {
   "cell_type": "code",
   "execution_count": 22,
   "metadata": {},
   "outputs": [
    {
     "name": "stdout",
     "output_type": "stream",
     "text": [
      "drop table order_info_wide;drop table stg_customer;drop table stg_orders;drop table stg_lineitem;drop table region;drop table nation;drop table supplier;drop table customer;drop table part;drop table partsupp;drop table orders;drop table lineitem;\n"
     ]
    }
   ],
   "source": [
    "con = duckdb.connect('tpch/dev.duckdb')\n",
    "string = ''\n",
    "for i in con.sql(\"SELECT table_name FROM  information_schema.tables\").fetchall():\n",
    "    string += f\"drop table {i[0]};\"\n",
    "print(string)\n"
   ]
  },
  {
   "cell_type": "code",
   "execution_count": 23,
   "metadata": {},
   "outputs": [],
   "source": [
    "con.close()\n"
   ]
  },
  {
   "cell_type": "code",
   "execution_count": 16,
   "metadata": {},
   "outputs": [
    {
     "data": {
      "text/plain": [
       "┌─────────────────────┬───────────────┬─────────┬─────────┬─────────┬───────┐\n",
       "│     column_name     │  column_type  │  null   │   key   │ default │ extra │\n",
       "│       varchar       │    varchar    │ varchar │ varchar │ varchar │ int32 │\n",
       "├─────────────────────┼───────────────┼─────────┼─────────┼─────────┼───────┤\n",
       "│ order_key           │ INTEGER       │ YES     │ NULL    │ NULL    │  NULL │\n",
       "│ order_cust_key      │ INTEGER       │ YES     │ NULL    │ NULL    │  NULL │\n",
       "│ order_status        │ VARCHAR       │ YES     │ NULL    │ NULL    │  NULL │\n",
       "│ order_total_price   │ DECIMAL(15,2) │ YES     │ NULL    │ NULL    │  NULL │\n",
       "│ order_date          │ DATE          │ YES     │ NULL    │ NULL    │  NULL │\n",
       "│ order_priority      │ VARCHAR       │ YES     │ NULL    │ NULL    │  NULL │\n",
       "│ order_clerk         │ VARCHAR       │ YES     │ NULL    │ NULL    │  NULL │\n",
       "│ order_ship_priority │ INTEGER       │ YES     │ NULL    │ NULL    │  NULL │\n",
       "│ order_comment       │ VARCHAR       │ YES     │ NULL    │ NULL    │  NULL │\n",
       "└─────────────────────┴───────────────┴─────────┴─────────┴─────────┴───────┘"
      ]
     },
     "execution_count": 16,
     "metadata": {},
     "output_type": "execute_result"
    }
   ],
   "source": [
    "con = duckdb.connect('tpch/dev.duckdb')\n",
    "con.sql(\"describe stg_orders\")"
   ]
  },
  {
   "cell_type": "code",
   "execution_count": 18,
   "metadata": {},
   "outputs": [
    {
     "data": {
      "text/plain": [
       "┌──────────────────────┬───────────────┬─────────┬─────────┬─────────┬───────┐\n",
       "│     column_name      │  column_type  │  null   │   key   │ default │ extra │\n",
       "│       varchar        │    varchar    │ varchar │ varchar │ varchar │ int32 │\n",
       "├──────────────────────┼───────────────┼─────────┼─────────┼─────────┼───────┤\n",
       "│ cust_key             │ INTEGER       │ YES     │ NULL    │ NULL    │  NULL │\n",
       "│ cust_name            │ VARCHAR       │ YES     │ NULL    │ NULL    │  NULL │\n",
       "│ cust_address         │ VARCHAR       │ YES     │ NULL    │ NULL    │  NULL │\n",
       "│ cust_nation_key      │ INTEGER       │ YES     │ NULL    │ NULL    │  NULL │\n",
       "│ cust_phone           │ VARCHAR       │ YES     │ NULL    │ NULL    │  NULL │\n",
       "│ cust_account_balance │ DECIMAL(15,2) │ YES     │ NULL    │ NULL    │  NULL │\n",
       "│ cust_market_segment  │ VARCHAR       │ YES     │ NULL    │ NULL    │  NULL │\n",
       "│ cust_comment         │ VARCHAR       │ YES     │ NULL    │ NULL    │  NULL │\n",
       "└──────────────────────┴───────────────┴─────────┴─────────┴─────────┴───────┘"
      ]
     },
     "execution_count": 18,
     "metadata": {},
     "output_type": "execute_result"
    }
   ],
   "source": [
    "con.sql(\"describe stg_customer\")"
   ]
  },
  {
   "cell_type": "code",
   "execution_count": 7,
   "metadata": {},
   "outputs": [
    {
     "data": {
      "text/plain": [
       "┌──────────────────────┬────────────────────┬───┬──────────────────────┬────────────────────┬──────────────────────┐\n",
       "│     lineitem_key     │ lineitem_order_key │ … │ lineitem_ship_inst…  │ lineitem_ship_mode │   lineitem_comment   │\n",
       "│       varchar        │       int32        │   │       varchar        │      varchar       │       varchar        │\n",
       "├──────────────────────┼────────────────────┼───┼──────────────────────┼────────────────────┼──────────────────────┤\n",
       "│ ea66c06c1e1c05fa9f…  │                  1 │ … │ DELIVER IN PERSON    │ TRUCK              │ to beans x-ray car…  │\n",
       "│ 98c6f2c2287f4c73ce…  │                  1 │ … │ TAKE BACK RETURN     │ MAIL               │  according to the …  │\n",
       "│ 13cee27a2bd9391547…  │                  1 │ … │ TAKE BACK RETURN     │ REG AIR            │ ourts cajole above…  │\n",
       "│ 3a170a9fe4f47efa37…  │                  1 │ … │ NONE                 │ AIR                │ s cajole busily ab…  │\n",
       "│ 12426c956d1bc50170…  │                  1 │ … │ NONE                 │ FOB                │  the regular, regu…  │\n",
       "│ 449daf85c71a9f8eb7…  │                  1 │ … │ DELIVER IN PERSON    │ MAIL               │ rouches. special     │\n",
       "│ 8fbdbf5573b18fae93…  │                  2 │ … │ TAKE BACK RETURN     │ RAIL               │ re. enticingly reg…  │\n",
       "│ c9e6e7b69f98f516a5…  │                  3 │ … │ NONE                 │ AIR                │ s cajole above the…  │\n",
       "│ b772d43b49bb57b596…  │                  3 │ … │ TAKE BACK RETURN     │ RAIL               │ ecial pinto beans.…  │\n",
       "│ 7866cc7fb5a03c016e…  │                  3 │ … │ DELIVER IN PERSON    │ SHIP               │ e carefully fina     │\n",
       "│          ·           │                  · │ · │         ·            │  ·                 │        ·             │\n",
       "│          ·           │                  · │ · │         ·            │  ·                 │        ·             │\n",
       "│          ·           │                  · │ · │         ·            │  ·                 │        ·             │\n",
       "│ 0dadf59b535dc9054d…  │              10049 │ … │ DELIVER IN PERSON    │ MAIL               │ to beans. slyly fi…  │\n",
       "│ 74cb81b37facb07286…  │              10050 │ … │ NONE                 │ TRUCK              │ es. specia           │\n",
       "│ 6d5f7ca5ec725b88bf…  │              10050 │ … │ COLLECT COD          │ FOB                │ e even theodolites.  │\n",
       "│ 67741ca93bef15718f…  │              10050 │ … │ COLLECT COD          │ RAIL               │ bold requests. iro…  │\n",
       "│ db994447a7b96e3978…  │              10050 │ … │ COLLECT COD          │ MAIL               │ eans. final platel…  │\n",
       "│ f54f3cd52b90f8e6de…  │              10051 │ … │ DELIVER IN PERSON    │ SHIP               │ accounts: blithely…  │\n",
       "│ 28fbba8828951bb640…  │              10051 │ … │ TAKE BACK RETURN     │ TRUCK              │ g to the ironic      │\n",
       "│ 2102dba5971727dd6a…  │              10051 │ … │ TAKE BACK RETURN     │ REG AIR            │ yly regular ideas.…  │\n",
       "│ 09bd2b622f7598da08…  │              10051 │ … │ COLLECT COD          │ TRUCK              │  the slyly final r…  │\n",
       "│ e3f01a23a8a3b6aad1…  │              10052 │ … │ NONE                 │ SHIP               │ rding to the even …  │\n",
       "├──────────────────────┴────────────────────┴───┴──────────────────────┴────────────────────┴──────────────────────┤\n",
       "│ ? rows (>9999 rows, 20 shown)                                                               19 columns (5 shown) │\n",
       "└──────────────────────────────────────────────────────────────────────────────────────────────────────────────────┘"
      ]
     },
     "execution_count": 7,
     "metadata": {},
     "output_type": "execute_result"
    }
   ],
   "source": [
    "con = duckdb.connect('tpch/dev.duckdb', read_only= True)\n",
    "con.sql('SELECT * FROM stg_lineitem')"
   ]
  },
  {
   "cell_type": "code",
   "execution_count": 70,
   "metadata": {},
   "outputs": [
    {
     "data": {
      "text/plain": [
       "┌────────────────────┬───────────────────┬──────────────────────┬───┬────────────────────┬──────────────────────┐\n",
       "│ lineitem_order_key │ lineitem_part_key │ lineitem_supplied_…  │ … │ lineitem_ship_mode │   lineitem_comment   │\n",
       "│       int32        │       int32       │        int32         │   │      varchar       │       varchar        │\n",
       "├────────────────────┼───────────────────┼──────────────────────┼───┼────────────────────┼──────────────────────┤\n",
       "│                  1 │            155190 │                 7706 │ … │ TRUCK              │ to beans x-ray car…  │\n",
       "│                  1 │             67310 │                 7311 │ … │ MAIL               │  according to the …  │\n",
       "│                  1 │             63700 │                 3701 │ … │ REG AIR            │ ourts cajole above…  │\n",
       "│                  1 │              2132 │                 4633 │ … │ AIR                │ s cajole busily ab…  │\n",
       "│                  1 │             24027 │                 1534 │ … │ FOB                │  the regular, regu…  │\n",
       "│                  1 │             15635 │                  638 │ … │ MAIL               │ rouches. special     │\n",
       "│                  2 │            106170 │                 1191 │ … │ RAIL               │ re. enticingly reg…  │\n",
       "│                  3 │              4297 │                 1798 │ … │ AIR                │ s cajole above the…  │\n",
       "│                  3 │             19036 │                 6540 │ … │ RAIL               │ ecial pinto beans.…  │\n",
       "│                  3 │            128449 │                 3474 │ … │ SHIP               │ e carefully fina     │\n",
       "│                  · │               ·   │                   ·  │ · │  ·                 │        ·             │\n",
       "│                  · │               ·   │                   ·  │ · │  ·                 │        ·             │\n",
       "│                  · │               ·   │                   ·  │ · │  ·                 │        ·             │\n",
       "│              10049 │            164042 │                 6559 │ … │ MAIL               │ to beans. slyly fi…  │\n",
       "│              10050 │            199821 │                 7379 │ … │ TRUCK              │ es. specia           │\n",
       "│              10050 │            175779 │                  814 │ … │ FOB                │ e even theodolites.  │\n",
       "│              10050 │            104518 │                 7029 │ … │ RAIL               │ bold requests. iro…  │\n",
       "│              10050 │             22788 │                  295 │ … │ MAIL               │ eans. final platel…  │\n",
       "│              10051 │             82853 │                  378 │ … │ SHIP               │ accounts: blithely…  │\n",
       "│              10051 │             97751 │                 2770 │ … │ TRUCK              │ g to the ironic      │\n",
       "│              10051 │             86917 │                 6918 │ … │ REG AIR            │ yly regular ideas.…  │\n",
       "│              10051 │              5431 │                 5432 │ … │ TRUCK              │  the slyly final r…  │\n",
       "│              10052 │             38654 │                 8655 │ … │ SHIP               │ rding to the even …  │\n",
       "├────────────────────┴───────────────────┴──────────────────────┴───┴────────────────────┴──────────────────────┤\n",
       "│ ? rows (>9999 rows, 20 shown)                                                            18 columns (5 shown) │\n",
       "└───────────────────────────────────────────────────────────────────────────────────────────────────────────────┘"
      ]
     },
     "execution_count": 70,
     "metadata": {},
     "output_type": "execute_result"
    }
   ],
   "source": [
    "query = '''\n",
    "SELECT \n",
    "l_orderkey as lineitem_order_key, \n",
    "l_partkey as lineitem_part_key, \n",
    "l_suppkey as lineitem_supplied_key,\n",
    "l_linenumber as lineitem_linenumber,\n",
    "---- I'm gonna assume that any value that isn't 'N' is a return \n",
    "case when l_returnflag = 'N' then l_quantity else 0 - l_quantity end as lineitem_quantity,\n",
    "l_extendedprice as lineitem_extended_price,\n",
    "l_discount as lineitem_discount, \n",
    "l_tax as lineitem_tax, \n",
    "(l_extendedprice - l_discount) * (case when l_returnflag = 'N' then l_quantity else 0 - l_quantity end) as lineitem_line_total,\n",
    "((l_extendedprice - l_discount) * (1 + l_tax)) * (case when l_returnflag = 'N' then l_quantity else 0 - l_quantity end) as lineitem_line_total_tax,\n",
    "l_returnflag as lineitem_return_flag,\n",
    "l_linestatus as lineitem_line_status,\n",
    "l_shipdate as lineitem_ship_date, \n",
    "l_commitdate as lineitem_commit_date, \n",
    "l_receiptdate as lineitem_receipt_date,\n",
    "l_shipinstruct as lineitem_ship_instruct,\n",
    "l_shipmode as lineitem_ship_mode,\n",
    "l_comment as lineitem_comment\n",
    "from lineitem\n",
    "'''\n",
    "\n",
    "con.sql(query)"
   ]
  },
  {
   "cell_type": "code",
   "execution_count": null,
   "metadata": {},
   "outputs": [
    {
     "ename": "CatalogException",
     "evalue": "Catalog Error: Cannot open database \"c:\\users\\crock\\documents\\github\\duckdb_dbt_tpch\\tpch\\dev.duckdb\" in read-only mode: database does not exist",
     "output_type": "error",
     "traceback": [
      "\u001b[1;31m---------------------------------------------------------------------------\u001b[0m",
      "\u001b[1;31mCatalogException\u001b[0m                          Traceback (most recent call last)",
      "\u001b[1;32mc:\\Users\\Crock\\Documents\\GitHub\\duckdb_dbt_tpch\\notebook.ipynb Cell 7\u001b[0m line \u001b[0;36m1\n\u001b[1;32m----> <a href='vscode-notebook-cell:/c%3A/Users/Crock/Documents/GitHub/duckdb_dbt_tpch/notebook.ipynb#W6sZmlsZQ%3D%3D?line=0'>1</a>\u001b[0m con \u001b[39m=\u001b[39m duckdb\u001b[39m.\u001b[39;49mconnect(\u001b[39m'\u001b[39;49m\u001b[39mtpch/dev.duckdb\u001b[39;49m\u001b[39m'\u001b[39;49m, read_only\u001b[39m=\u001b[39;49m \u001b[39mTrue\u001b[39;49;00m)\n\u001b[0;32m      <a href='vscode-notebook-cell:/c%3A/Users/Crock/Documents/GitHub/duckdb_dbt_tpch/notebook.ipynb#W6sZmlsZQ%3D%3D?line=1'>2</a>\u001b[0m cols \u001b[39m=\u001b[39m con\u001b[39m.\u001b[39mquery(\u001b[39m'''\u001b[39m\n\u001b[0;32m      <a href='vscode-notebook-cell:/c%3A/Users/Crock/Documents/GitHub/duckdb_dbt_tpch/notebook.ipynb#W6sZmlsZQ%3D%3D?line=2'>3</a>\u001b[0m \u001b[39mSELECT \u001b[39m\u001b[39m'\u001b[39m\u001b[39mlineitem.\u001b[39m\u001b[39m'\u001b[39m\u001b[39m || column_name || \u001b[39m\u001b[39m'\u001b[39m\u001b[39m,\u001b[39m\u001b[39m'\u001b[39m\u001b[39m FROM information_schema.columns where table_name = \u001b[39m\u001b[39m'\u001b[39m\u001b[39mstg_orders\u001b[39m\u001b[39m'\u001b[39m\n\u001b[0;32m      <a href='vscode-notebook-cell:/c%3A/Users/Crock/Documents/GitHub/duckdb_dbt_tpch/notebook.ipynb#W6sZmlsZQ%3D%3D?line=3'>4</a>\u001b[0m \u001b[39m'''\u001b[39m)\u001b[39m.\u001b[39mfetchall()\n\u001b[0;32m      <a href='vscode-notebook-cell:/c%3A/Users/Crock/Documents/GitHub/duckdb_dbt_tpch/notebook.ipynb#W6sZmlsZQ%3D%3D?line=5'>6</a>\u001b[0m \u001b[39mprint\u001b[39m(\u001b[39m'\u001b[39m\u001b[39mSELECT\u001b[39m\u001b[39m'\u001b[39m)\n",
      "\u001b[1;31mCatalogException\u001b[0m: Catalog Error: Cannot open database \"c:\\users\\crock\\documents\\github\\duckdb_dbt_tpch\\tpch\\dev.duckdb\" in read-only mode: database does not exist"
     ]
    }
   ],
   "source": [
    "con = duckdb.connect('tpch/dev.duckdb', read_only= True)\n",
    "cols = con.query('''\n",
    "SELECT 'lineitem.' || column_name || ',' FROM information_schema.columns where table_name = 'stg_orders'\n",
    "''').fetchall()\n",
    "\n",
    "print('SELECT')\n",
    "for i in cols:\n",
    "    \n",
    "    print(i[0])"
   ]
  },
  {
   "cell_type": "code",
   "execution_count": 96,
   "metadata": {},
   "outputs": [
    {
     "data": {
      "text/plain": [
       "┌──────────────────────┬────────────────────┬───────────────────┬───┬─────────────────────┬──────────────────────┐\n",
       "│     lineitem_key     │ lineitem_order_key │ lineitem_part_key │ … │ cust_market_segment │     cust_comment     │\n",
       "│       varchar        │       int32        │       int32       │   │       varchar       │       varchar        │\n",
       "├──────────────────────┼────────────────────┼───────────────────┼───┼─────────────────────┼──────────────────────┤\n",
       "│ ca4b8981801d56adf0…  │             122308 │             72083 │ … │ BUILDING            │ ests are. furiousl…  │\n",
       "│ bb28e72b93c23fd68f…  │             122308 │             90670 │ … │ BUILDING            │ ests are. furiousl…  │\n",
       "│ f70a378fd2cd4274eb…  │             122308 │             90178 │ … │ BUILDING            │ ests are. furiousl…  │\n",
       "│ 3395efd38c1285e0fd…  │             122309 │             41436 │ … │ BUILDING            │ c dependencies x-r…  │\n",
       "│ 15e1b91ee7c8d8b21d…  │             122309 │               970 │ … │ BUILDING            │ c dependencies x-r…  │\n",
       "│ 5d2c1b5c5d0115dc01…  │             122310 │             65581 │ … │ AUTOMOBILE          │  dependencies nag …  │\n",
       "│ bef7e3729a3161821f…  │             122310 │             12548 │ … │ AUTOMOBILE          │  dependencies nag …  │\n",
       "│ 0771a70b1d474bb26d…  │             122310 │             83439 │ … │ AUTOMOBILE          │  dependencies nag …  │\n",
       "│ adbcfdcf29bd5919aa…  │             122310 │            154584 │ … │ AUTOMOBILE          │  dependencies nag …  │\n",
       "│ 832834568d48e55693…  │             122310 │             80971 │ … │ AUTOMOBILE          │  dependencies nag …  │\n",
       "│          ·           │                ·   │               ·   │ · │    ·                │          ·           │\n",
       "│          ·           │                ·   │               ·   │ · │    ·                │          ·           │\n",
       "│          ·           │                ·   │               ·   │ · │    ·                │          ·           │\n",
       "│ 42ee36596bf024b215…  │             132806 │            168138 │ … │ BUILDING            │  quickly across th…  │\n",
       "│ 2c7c87271ed434e3c9…  │             132807 │             30816 │ … │ FURNITURE           │ odolites sleep som…  │\n",
       "│ e41f0eef465cf6a1d5…  │             132832 │            131786 │ … │ AUTOMOBILE          │ inst the accounts …  │\n",
       "│ 0ad91680b94d1edff7…  │             132832 │            112641 │ … │ AUTOMOBILE          │ inst the accounts …  │\n",
       "│ c2617849cc7908af66…  │             132832 │            154510 │ … │ AUTOMOBILE          │ inst the accounts …  │\n",
       "│ 5122394d170a2fd293…  │             132833 │            184738 │ … │ HOUSEHOLD           │ lyly final package…  │\n",
       "│ c3e08fb60dc4c74893…  │             132833 │             88430 │ … │ HOUSEHOLD           │ lyly final package…  │\n",
       "│ d8355dfa7c642d3adf…  │             132833 │             32115 │ … │ HOUSEHOLD           │ lyly final package…  │\n",
       "│ 70db70c4008058dd61…  │             132833 │            154762 │ … │ HOUSEHOLD           │ lyly final package…  │\n",
       "│ 7a74aab6bc411dacab…  │             132834 │            168955 │ … │ MACHINERY           │  pending instructi…  │\n",
       "├──────────────────────┴────────────────────┴───────────────────┴───┴─────────────────────┴──────────────────────┤\n",
       "│ ? rows (>9999 rows, 20 shown)                                                             36 columns (5 shown) │\n",
       "└────────────────────────────────────────────────────────────────────────────────────────────────────────────────┘"
      ]
     },
     "execution_count": 96,
     "metadata": {},
     "output_type": "execute_result"
    }
   ],
   "source": [
    "con.sql('SELECT * FROM order_info_wide ')"
   ]
  },
  {
   "cell_type": "code",
   "execution_count": 97,
   "metadata": {},
   "outputs": [],
   "source": [
    "con.close()"
   ]
  }
 ],
 "metadata": {
  "kernelspec": {
   "display_name": ".venv",
   "language": "python",
   "name": "python3"
  },
  "language_info": {
   "codemirror_mode": {
    "name": "ipython",
    "version": 3
   },
   "file_extension": ".py",
   "mimetype": "text/x-python",
   "name": "python",
   "nbconvert_exporter": "python",
   "pygments_lexer": "ipython3",
   "version": "3.11.5"
  }
 },
 "nbformat": 4,
 "nbformat_minor": 2
}
