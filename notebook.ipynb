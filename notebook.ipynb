{
 "cells": [
  {
   "cell_type": "code",
   "execution_count": 1,
   "metadata": {},
   "outputs": [],
   "source": [
    "import duckdb\n",
    "\n",
    "con = duckdb.connect('tpch/dev.duckdb')\n",
    "#con.sql(\"install tpch; load tpch;CALL dbgen(sf=0.01);\")\n",
    "\n"
   ]
  },
  {
   "cell_type": "code",
   "execution_count": 3,
   "metadata": {},
   "outputs": [
    {
     "data": {
      "text/plain": [
       "┌──────────────────────┬────────────────────┬───────────────────┬───┬──────────────────────┬──────────────────────┐\n",
       "│     lineitem_key     │ lineitem_order_key │ lineitem_part_key │ … │ lineitem_commit_da…  │ lineitem_commit_da…  │\n",
       "│       varchar        │       int32        │       int32       │   │        int64         │        int64         │\n",
       "├──────────────────────┼────────────────────┼───────────────────┼───┼──────────────────────┼──────────────────────┤\n",
       "│ ea66c06c1e1c05fa9f…  │                  1 │              1552 │ … │                   12 │                    1 │\n",
       "│ 98c6f2c2287f4c73ce…  │                  1 │               674 │ … │                   28 │                    1 │\n",
       "│ 13cee27a2bd9391547…  │                  1 │               637 │ … │                    5 │                    1 │\n",
       "│ 3a170a9fe4f47efa37…  │                  1 │                22 │ … │                   30 │                    1 │\n",
       "│ 12426c956d1bc50170…  │                  1 │               241 │ … │                   14 │                    1 │\n",
       "│ 449daf85c71a9f8eb7…  │                  1 │               157 │ … │                    7 │                    1 │\n",
       "│ 8fbdbf5573b18fae93…  │                  2 │              1062 │ … │                   14 │                    1 │\n",
       "│ c9e6e7b69f98f516a5…  │                  3 │                43 │ … │                    4 │                    1 │\n",
       "│ b772d43b49bb57b596…  │                  3 │               191 │ … │                   20 │                    4 │\n",
       "│ 7866cc7fb5a03c016e…  │                  3 │              1285 │ … │                   22 │                    4 │\n",
       "│          ·           │                  · │                ·  │ · │                    · │                    · │\n",
       "│          ·           │                  · │                ·  │ · │                    · │                    · │\n",
       "│          ·           │                  · │                ·  │ · │                    · │                    · │\n",
       "│ b635ffce10615cb14e…  │              10791 │              1570 │ … │                   12 │                    4 │\n",
       "│ 479ba7b04d626ccd65…  │              10816 │              1219 │ … │                   27 │                    1 │\n",
       "│ 9a979c9d837d64bc43…  │              10816 │              1603 │ … │                   22 │                    1 │\n",
       "│ b80915ae5f970b4f79…  │              10817 │               224 │ … │                   13 │                    1 │\n",
       "│ 41b4a0ef4a71aceea6…  │              10817 │              1377 │ … │                   17 │                    1 │\n",
       "│ 8506373fb484944d63…  │              10817 │                20 │ … │                    4 │                    1 │\n",
       "│ d90e4e7e883bb82026…  │              10817 │               579 │ … │                   19 │                    1 │\n",
       "│ 27a42d8bf25b84cc30…  │              10817 │              1693 │ … │                    8 │                    1 │\n",
       "│ df010a928661973a5c…  │              10818 │               647 │ … │                   22 │                    3 │\n",
       "│ e4bd7d0cb41ab72ca1…  │              10818 │              1040 │ … │                   28 │                    3 │\n",
       "├──────────────────────┴────────────────────┴───────────────────┴───┴──────────────────────┴──────────────────────┤\n",
       "│ ? rows (>9999 rows, 20 shown)                                                              48 columns (5 shown) │\n",
       "└─────────────────────────────────────────────────────────────────────────────────────────────────────────────────┘"
      ]
     },
     "execution_count": 3,
     "metadata": {},
     "output_type": "execute_result"
    }
   ],
   "source": [
    "con.sql('SELECT * FROM dbt.int_order_lineitem_joined')"
   ]
  },
  {
   "cell_type": "code",
   "execution_count": null,
   "metadata": {},
   "outputs": [],
   "source": [
    "con.close()"
   ]
  },
  {
   "cell_type": "code",
   "execution_count": null,
   "metadata": {},
   "outputs": [],
   "source": [
    "con = duckdb.connect('tpch/dev.duckdb')\n",
    "string = ''\n",
    "for i in con.sql(\"SELECT table_name FROM  information_schema.tables\").fetchall():\n",
    "    string += f\"drop table {i[0]};\"\n",
    "print(string)\n"
   ]
  },
  {
   "cell_type": "code",
   "execution_count": null,
   "metadata": {},
   "outputs": [],
   "source": [
    "con.close()"
   ]
  },
  {
   "cell_type": "code",
   "execution_count": null,
   "metadata": {},
   "outputs": [],
   "source": [
    "con = duckdb.connect('tpch/dev.duckdb')\n",
    "con.sql(\"describe stg_orders\")"
   ]
  },
  {
   "cell_type": "code",
   "execution_count": null,
   "metadata": {},
   "outputs": [],
   "source": [
    "con.sql(\"describe stg_customer\")"
   ]
  },
  {
   "cell_type": "code",
   "execution_count": null,
   "metadata": {},
   "outputs": [],
   "source": [
    "con = duckdb.connect('tpch/dev.duckdb', read_only= True)\n",
    "con.sql('SELECT * FROM stg_lineitem')"
   ]
  },
  {
   "cell_type": "code",
   "execution_count": null,
   "metadata": {},
   "outputs": [],
   "source": [
    "query = '''\n",
    "SELECT \n",
    "l_orderkey as lineitem_order_key, \n",
    "l_partkey as lineitem_part_key, \n",
    "l_suppkey as lineitem_supplied_key,\n",
    "l_linenumber as lineitem_linenumber,\n",
    "---- I'm gonna assume that any value that isn't 'N' is a return \n",
    "case when l_returnflag = 'N' then l_quantity else 0 - l_quantity end as lineitem_quantity,\n",
    "l_extendedprice as lineitem_extended_price,\n",
    "l_discount as lineitem_discount, \n",
    "l_tax as lineitem_tax, \n",
    "(l_extendedprice - l_discount) * (case when l_returnflag = 'N' then l_quantity else 0 - l_quantity end) as lineitem_line_total,\n",
    "((l_extendedprice - l_discount) * (1 + l_tax)) * (case when l_returnflag = 'N' then l_quantity else 0 - l_quantity end) as lineitem_line_total_tax,\n",
    "l_returnflag as lineitem_return_flag,\n",
    "l_linestatus as lineitem_line_status,\n",
    "l_shipdate as lineitem_ship_date, \n",
    "l_commitdate as lineitem_commit_date, \n",
    "l_receiptdate as lineitem_receipt_date,\n",
    "l_shipinstruct as lineitem_ship_instruct,\n",
    "l_shipmode as lineitem_ship_mode,\n",
    "l_comment as lineitem_comment\n",
    "from lineitem\n",
    "'''\n",
    "\n",
    "con.sql(query)"
   ]
  },
  {
   "cell_type": "code",
   "execution_count": null,
   "metadata": {},
   "outputs": [],
   "source": [
    "#con = duckdb.connect('tpch/dev.duckdb', read_only= True)\n",
    "table = 'region'\n",
    "cols = con.query(f'''\n",
    "------SELECT '{table}.' || column_name || ',' FROM information_schema.columns where table_name = '{table}'\n",
    "SELECT column_name || ',' FROM information_schema.columns where table_name = '{table}'\n",
    "''').fetchall()\n",
    "\n",
    "print('SELECT')\n",
    "for i in cols:\n",
    "    \n",
    "    print(i[0])"
   ]
  },
  {
   "cell_type": "code",
   "execution_count": null,
   "metadata": {},
   "outputs": [],
   "source": [
    "con.close()"
   ]
  },
  {
   "cell_type": "code",
   "execution_count": null,
   "metadata": {},
   "outputs": [],
   "source": [
    "con.sql('SELECT * FROM order_info_wide ')"
   ]
  }
 ],
 "metadata": {
  "kernelspec": {
   "display_name": ".venv",
   "language": "python",
   "name": "python3"
  },
  "language_info": {
   "codemirror_mode": {
    "name": "ipython",
    "version": 3
   },
   "file_extension": ".py",
   "mimetype": "text/x-python",
   "name": "python",
   "nbconvert_exporter": "python",
   "pygments_lexer": "ipython3",
   "version": "3.11.5"
  }
 },
 "nbformat": 4,
 "nbformat_minor": 2
}
